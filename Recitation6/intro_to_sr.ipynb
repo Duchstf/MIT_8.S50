{
 "cells": [
  {
   "cell_type": "markdown",
   "metadata": {},
   "source": [
    "## Introduction to Special Relativity, the LHC, and Jets"
   ]
  },
  {
   "cell_type": "markdown",
   "metadata": {},
   "source": [
    "Today, we will be discussing special relativity, LHC collider physics, and jets, making sure to go through the necessary details that you will need to do this weeks project. These two recitations will be a little bit more theoretical, but hopefully they will provide you with a better idea of how the project works and how to get a headstart on understanding what everything means."
   ]
  },
  {
   "cell_type": "markdown",
   "metadata": {},
   "source": [
    "We will begin with Galilean relativity. Galilean relativity is the theory of how reference frames relate to each other within Newtonian physics. Galileo first envisioned this theory using two physicists doing experiments, one on land, \"at rest\", and one moving inside the hull of a ship. The statement of Galilean relativity is that the laws of physics that the two physicists will measure are the same, if the frames are inertial (travelling at a constant velocity). The equations of Galilean relativity, known as Galilean transformations, are given by\n",
    "\n",
    "$$t' = t $$\n",
    "$$x' = x - v t $$\n",
    "$$y' = y $$\n",
    "$$z' = z$$\n",
    "\n",
    "Using these equations, we can calculate that \n",
    "$$\\frac{d}{dt'} = \\frac{d}{dt}$$\n",
    "and\n",
    "$$\\frac{d^2 x'}{dt'^2} = \\frac{d^2 x}{d t^2} = \\frac{F}{m}$$\n",
    "i.e. the laws of physics are not changed when you switch between inertial reference frames, and there are no one absolute reference frame, although there is an absolute notion of time. However, one thing that puzzled physicists was the way that the velocity of light transformed between reference frames. The predominant theory at the time, was that there was a medium that light travelled through, called \"luminiferous ether\", and that there was a reference frame in which the ether was stationary and in the other reference frames, the ether would transform according to the laws of Galilean relativity above. In 1887, Michaelson and Morley conducted an interferometer experiment, very similar to LIGO, to detect the luminiferous ether, and using this experiment, they concluded that there was no ether. \n",
    "\n",
    "In 1905, Einstein shook up the world of physics by presenting his special theory of relativity, which directly contradicted Galilean relativity. In special relativity, Einstien postulated the \"principle of relativity\", which states that the laws of physics, including Maxwell's equations (and therefore the speed of light) are the same in all inertial frames of reference. Using this principle, he postulated a different set of transformations, called the Lorentz transformations, given by\n",
    "\n",
    "$$t' = \\gamma(t - \\frac{vx}{c^2})$$\n",
    "$$x' = \\gamma(x -  v t)$$\n",
    "$$y' = y $$\n",
    "$$z' = z $$\n",
    "where\n",
    "$$\\gamma = \\frac{1}{\\sqrt{1- \\frac{v^2}{c^2}}}$$"
   ]
  },
  {
   "cell_type": "code",
   "execution_count": null,
   "metadata": {},
   "outputs": [],
   "source": []
  }
 ],
 "metadata": {
  "kernelspec": {
   "display_name": "Python 3",
   "language": "python",
   "name": "python3"
  },
  "language_info": {
   "codemirror_mode": {
    "name": "ipython",
    "version": 3
   },
   "file_extension": ".py",
   "mimetype": "text/x-python",
   "name": "python",
   "nbconvert_exporter": "python",
   "pygments_lexer": "ipython3",
   "version": "3.7.6"
  }
 },
 "nbformat": 4,
 "nbformat_minor": 4
}
